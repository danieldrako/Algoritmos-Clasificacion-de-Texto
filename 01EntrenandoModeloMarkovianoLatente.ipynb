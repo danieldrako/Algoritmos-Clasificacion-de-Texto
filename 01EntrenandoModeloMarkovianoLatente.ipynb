{
  "nbformat": 4,
  "nbformat_minor": 0,
  "metadata": {
    "colab": {
      "provenance": [],
      "authorship_tag": "ABX9TyPmk3mjQH+MPHUgYC71nZoP",
      "include_colab_link": true
    },
    "kernelspec": {
      "name": "python3",
      "display_name": "Python 3"
    },
    "language_info": {
      "name": "python"
    }
  },
  "cells": [
    {
      "cell_type": "markdown",
      "metadata": {
        "id": "view-in-github",
        "colab_type": "text"
      },
      "source": [
        "<a href=\"https://colab.research.google.com/github/danieldrako/Algoritmos-Clasificacion-de-Texto/blob/main/01EntrenandoModeloMarkovianoLatente.ipynb\" target=\"_parent\"><img src=\"https://colab.research.google.com/assets/colab-badge.svg\" alt=\"Open In Colab\"/></a>"
      ]
    },
    {
      "cell_type": "markdown",
      "metadata": {
        "id": "hSAvAQeUboQH"
      },
      "source": [
        "# Entrenando un Modelo Markoviano Latente (HMM)"
      ]
    },
    {
      "cell_type": "markdown",
      "metadata": {
        "id": "apZTvqywabkM"
      },
      "source": [
        "## Corpus de español: \n",
        "\n",
        "* AnCora | Github: https://github.com/UniversalDependencies/UD_Spanish-AnCora\n",
        "\n",
        "* usamos el conllu parser para leer el corpus: https://pypi.org/project/conllu/\n",
        "\n",
        "* Etiquetas Universal POS (Documentación): https://universaldependencies.org/u/pos/"
      ]
    },
    {
      "cell_type": "code",
      "metadata": {
        "id": "7SyjRpNdXx6l",
        "colab": {
          "base_uri": "https://localhost:8080/"
        },
        "outputId": "cb2ba10d-1069-4779-da8f-45817e013e8a"
      },
      "source": [
        "#@title dependencias previas\n",
        "!pip install conllu\n",
        "!git clone https://github.com/UniversalDependencies/UD_Spanish-AnCora.git"
      ],
      "execution_count": 1,
      "outputs": [
        {
          "output_type": "stream",
          "name": "stdout",
          "text": [
            "Looking in indexes: https://pypi.org/simple, https://us-python.pkg.dev/colab-wheels/public/simple/\n",
            "Collecting conllu\n",
            "  Downloading conllu-4.5.2-py2.py3-none-any.whl (16 kB)\n",
            "Installing collected packages: conllu\n",
            "Successfully installed conllu-4.5.2\n",
            "Cloning into 'UD_Spanish-AnCora'...\n",
            "remote: Enumerating objects: 928, done.\u001b[K\n",
            "remote: Counting objects: 100% (181/181), done.\u001b[K\n",
            "remote: Compressing objects: 100% (60/60), done.\u001b[K\n",
            "remote: Total 928 (delta 128), reused 174 (delta 121), pack-reused 747\u001b[K\n",
            "Receiving objects: 100% (928/928), 337.55 MiB | 22.87 MiB/s, done.\n",
            "Resolving deltas: 100% (653/653), done.\n"
          ]
        }
      ]
    },
    {
      "cell_type": "code",
      "metadata": {
        "id": "2KxqUFhyXozz"
      },
      "source": [
        "#@title leyendo el corpus AnCora\n",
        "from conllu import parse_incr \n",
        "wordList = []\n",
        "data_file = open(\"UD_Spanish-AnCora/es_ancora-ud-dev.conllu\", \"r\", encoding=\"utf-8\")\n",
        "for tokenlist in parse_incr(data_file):\n",
        "    print(tokenlist.serialize())"
      ],
      "execution_count": null,
      "outputs": []
    },
    {
      "cell_type": "code",
      "metadata": {
        "id": "atcsH_bm9L6T",
        "colab": {
          "base_uri": "https://localhost:8080/"
        },
        "outputId": "91467bf7-c640-4370-ff74-3310afe04399"
      },
      "source": [
        "#@title Estructura de los tokens etiquetados del corpus\n",
        "tokenlist[2]  #información del token"
      ],
      "execution_count": 11,
      "outputs": [
        {
          "output_type": "execute_result",
          "data": {
            "text/plain": [
              "{'id': 3,\n",
              " 'form': 'de',\n",
              " 'lemma': 'de',\n",
              " 'upos': 'ADP',\n",
              " 'xpos': 'sps00',\n",
              " 'feats': None,\n",
              " 'head': 2,\n",
              " 'deprel': 'case',\n",
              " 'deps': [('case', 2)],\n",
              " 'misc': None}"
            ]
          },
          "metadata": {},
          "execution_count": 11
        }
      ]
    },
    {
      "cell_type": "code",
      "metadata": {
        "id": "Ia8ZEUJmaQdw",
        "colab": {
          "base_uri": "https://localhost:8080/",
          "height": 36
        },
        "outputId": "572cf124-aa17-4501-cc73-3355d4163dfa"
      },
      "source": [
        "tokenlist[2]['form']+'|'+tokenlist[1]['upos']  # palabra | categoria gramatical"
      ],
      "execution_count": 10,
      "outputs": [
        {
          "output_type": "execute_result",
          "data": {
            "text/plain": [
              "'de|DET'"
            ],
            "application/vnd.google.colaboratory.intrinsic+json": {
              "type": "string"
            }
          },
          "metadata": {},
          "execution_count": 10
        }
      ]
    },
    {
      "cell_type": "markdown",
      "metadata": {
        "id": "g2F4mvQqN5Tm"
      },
      "source": [
        "## Entrenamiento del modelo - Calculo de conteos:\n",
        "\n",
        "* tags (tags) `tagCountDict`: $C(tag)$\n",
        "* emisiones (word|tag) `emissionProbDict`: $C(word|tag)$\n",
        "* transiciones (tag|prevtag) `transitionDict`: $C(tag|prevtag)$"
      ]
    },
    {
      "cell_type": "code",
      "metadata": {
        "id": "N04oYlQgeAW9"
      },
      "source": [
        "tagCountDict = {} \n",
        "emissionDict = {}\n",
        "transitionDict = {}\n",
        "\n",
        "tagtype = 'upos' #vamos a usar la conveción de etiquetas universales\n",
        "data_file = open(\"UD_Spanish-AnCora/es_ancora-ud-dev.conllu\", \"r\", encoding=\"utf-8\")\n",
        "\n",
        "# Calculando conteos (pre-probabilidades)\n",
        "for tokenlist in parse_incr(data_file): # Cada elemento en ese corpus es una lista de tokens\n",
        "  prevtag = None\n",
        "  for token in tokenlist:\n",
        "\n",
        "    # C(tag) #Conteo de todos los tags \n",
        "    tag = token[tagtype]\n",
        "    if tag in tagCountDict.keys():\n",
        "      tagCountDict[tag] += 1\n",
        "    else:\n",
        "      tagCountDict[tag] = 1\n",
        "\n",
        "    # C(word|tag) -> probabilidades emision\n",
        "    wordtag = token['form'].lower()+'|'+token[tagtype] # (word|tag)\n",
        "    if wordtag in emissionDict.keys():\n",
        "      emissionDict[wordtag] = emissionDict[wordtag] + 1\n",
        "    else:\n",
        "      emissionDict[wordtag] = 1\n",
        "\n",
        "    #  C(tag|tag_previo) -> probabilidades transición\n",
        "    if prevtag is None:\n",
        "      prevtag = tag\n",
        "      continue\n",
        "    transitiontags = tag+'|'+prevtag\n",
        "    if transitiontags in transitionDict.keys():\n",
        "      transitionDict[transitiontags] = transitionDict[transitiontags] + 1\n",
        "    else:\n",
        "      transitionDict[transitiontags] = 1\n",
        "    prevtag = tag\n",
        "    \n",
        "#transitionDict\n",
        "#emissionDict\n",
        "#tagCountDict"
      ],
      "execution_count": 13,
      "outputs": []
    },
    {
      "cell_type": "markdown",
      "metadata": {
        "id": "XIXcZxSdOO__"
      },
      "source": [
        "## Entrenamiento del modelo - calculo de probabilidades\n",
        "* probabilidades de transición:\n",
        "$$P(tag|prevtag) = \\frac{C(prevtag, tag)}{C(prevtag)}$$\n",
        "\n",
        "* probabilidades de emisión:\n",
        " $$P(word|tag) = \\frac{C(word|tag)}{C(tag)}$$"
      ]
    },
    {
      "cell_type": "code",
      "metadata": {
        "id": "KznFFp2COzf7",
        "colab": {
          "base_uri": "https://localhost:8080/"
        },
        "outputId": "4f7ee2e1-154b-469d-b0b3-9ea80279b213"
      },
      "source": [
        "transitionProbDict = {} # matriz A\n",
        "emissionProbDict = {} # matriz B\n",
        "\n",
        "# transition Probabilities \n",
        "for key in transitionDict.keys():\n",
        "  tag, prevtag = key.split('|')\n",
        "  if tagCountDict[prevtag]>0:\n",
        "    transitionProbDict[key] = transitionDict[key]/(tagCountDict[prevtag])\n",
        "  else:\n",
        "    print(key)\n",
        "\n",
        "# emission Probabilities \n",
        "for key in emissionDict.keys():\n",
        "  word, tag = key.split('|')\n",
        "  if emissionDict[key]>0:\n",
        "    emissionProbDict[key] = emissionDict[key]/tagCountDict[tag]\n",
        "  else:\n",
        "    print(key)\n",
        "\n",
        "transitionProbDict['ADJ|ADJ']\n",
        "#emissionProbDict"
      ],
      "execution_count": 14,
      "outputs": [
        {
          "output_type": "execute_result",
          "data": {
            "text/plain": [
              "0.030217452696978255"
            ]
          },
          "metadata": {},
          "execution_count": 14
        }
      ]
    },
    {
      "cell_type": "markdown",
      "metadata": {
        "id": "_AyYqw1FZZ89"
      },
      "source": [
        "## Guardar parámetros del modelo"
      ]
    },
    {
      "cell_type": "code",
      "metadata": {
        "id": "Ido5QcAkY4OK",
        "colab": {
          "base_uri": "https://localhost:8080/"
        },
        "outputId": "ff09a411-59f2-4017-d7c5-73f8c0823ae1"
      },
      "source": [
        "import numpy as np\n",
        "np.save('transitionHMM.npy', transitionProbDict)\n",
        "np.save('emissionHMM.npy', emissionProbDict)\n",
        "transitionProbdict = np.load('transitionHMM.npy', allow_pickle='TRUE').item()\n",
        "transitionProbDict['ADJ|ADJ']"
      ],
      "execution_count": 15,
      "outputs": [
        {
          "output_type": "execute_result",
          "data": {
            "text/plain": [
              "0.030217452696978255"
            ]
          },
          "metadata": {},
          "execution_count": 15
        }
      ]
    },
    {
      "cell_type": "code",
      "source": [],
      "metadata": {
        "id": "uYeehdMDsBmP"
      },
      "execution_count": null,
      "outputs": []
    }
  ]
}