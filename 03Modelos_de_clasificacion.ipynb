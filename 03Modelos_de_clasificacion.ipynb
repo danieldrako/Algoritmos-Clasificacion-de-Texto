{
  "nbformat": 4,
  "nbformat_minor": 0,
  "metadata": {
    "colab": {
      "provenance": [],
      "authorship_tag": "ABX9TyM+troi5CyTwBXxKIvz3EMt",
      "include_colab_link": true
    },
    "kernelspec": {
      "name": "python3",
      "display_name": "Python 3"
    },
    "language_info": {
      "name": "python"
    }
  },
  "cells": [
    {
      "cell_type": "markdown",
      "metadata": {
        "id": "view-in-github",
        "colab_type": "text"
      },
      "source": [
        "<a href=\"https://colab.research.google.com/github/danieldrako/Algoritmos-Clasificacion-de-Texto/blob/main/03Modelos_de_clasificacion.ipynb\" target=\"_parent\"><img src=\"https://colab.research.google.com/assets/colab-badge.svg\" alt=\"Open In Colab\"/></a>"
      ]
    },
    {
      "cell_type": "code",
      "execution_count": null,
      "metadata": {
        "id": "NXmNm5dczEqp"
      },
      "outputs": [],
      "source": []
    },
    {
      "cell_type": "markdown",
      "metadata": {
        "id": "6YTaQq9dCh0E"
      },
      "source": [
        "# Clasificación de palabras (por género de nombre)"
      ]
    },
    {
      "cell_type": "code",
      "metadata": {
        "id": "5co_TuOhC4ze",
        "colab": {
          "base_uri": "https://localhost:8080/"
        },
        "outputId": "3b02c638-eb85-4e0d-c6fb-35f59ceec3ae"
      },
      "source": [
        "import nltk, random\n",
        "nltk.download('names') #descarga de dataset de  nombre en inglés \n",
        "from nltk.corpus import names #extraer el datasets"
      ],
      "execution_count": 2,
      "outputs": [
        {
          "output_type": "stream",
          "name": "stderr",
          "text": [
            "[nltk_data] Downloading package names to /root/nltk_data...\n",
            "[nltk_data]   Package names is already up-to-date!\n"
          ]
        }
      ]
    },
    {
      "cell_type": "markdown",
      "metadata": {
        "id": "ijhsE2PBFYxm"
      },
      "source": [
        "**Función básica de extracción de atributos**"
      ]
    },
    {
      "cell_type": "code",
      "metadata": {
        "id": "b0kKV62lCZ55"
      },
      "source": [
        "# definición de atributos relevantes\n",
        "def atributos(palabra):\n",
        "\treturn {'ultima_letra': palabra[-1]}\n",
        "\n",
        "tagset = ([(name, 'male') for name in names.words('male.txt')] + \n",
        "          [(name, 'female') for name in names.words('female.txt')])#counstrir lista de tuplas\n",
        "#el dataset tiene nombres masculinos y femeninos en archivos distinos"
      ],
      "execution_count": 5,
      "outputs": []
    },
    {
      "cell_type": "code",
      "metadata": {
        "id": "IjfK5ZKwDL__",
        "colab": {
          "base_uri": "https://localhost:8080/"
        },
        "outputId": "d583a8bd-ed9f-4f0e-8f01-99d95fe9e188"
      },
      "source": [
        "tagset[:10]"
      ],
      "execution_count": 6,
      "outputs": [
        {
          "output_type": "execute_result",
          "data": {
            "text/plain": [
              "[('Aamir', 'male'),\n",
              " ('Aaron', 'male'),\n",
              " ('Abbey', 'male'),\n",
              " ('Abbie', 'male'),\n",
              " ('Abbot', 'male'),\n",
              " ('Abbott', 'male'),\n",
              " ('Abby', 'male'),\n",
              " ('Abdel', 'male'),\n",
              " ('Abdul', 'male'),\n",
              " ('Abdulkarim', 'male')]"
            ]
          },
          "metadata": {},
          "execution_count": 6
        }
      ]
    },
    {
      "cell_type": "code",
      "metadata": {
        "id": "jZcAN-dmCrok",
        "colab": {
          "base_uri": "https://localhost:8080/"
        },
        "outputId": "475f8418-ab84-4661-d3ca-5c905002816a"
      },
      "source": [
        "random.shuffle(tagset) #mezcla de manera aleatoria nombre masculinos como femeninos\n",
        "tagset[:10]"
      ],
      "execution_count": 8,
      "outputs": [
        {
          "output_type": "execute_result",
          "data": {
            "text/plain": [
              "[('Davoud', 'male'),\n",
              " ('Maurits', 'male'),\n",
              " ('Elly', 'female'),\n",
              " ('Marlee', 'female'),\n",
              " ('Farica', 'female'),\n",
              " ('Rivalee', 'female'),\n",
              " ('Dafna', 'female'),\n",
              " ('Lee', 'female'),\n",
              " ('Hilliard', 'male'),\n",
              " ('Teddie', 'male')]"
            ]
          },
          "metadata": {},
          "execution_count": 8
        }
      ]
    },
    {
      "cell_type": "code",
      "metadata": {
        "id": "QzK97C8BDmHR"
      },
      "source": [
        "fset = [(atributos(n), g) for (n, g) in tagset]\n",
        "train, test = fset[500:], fset[:500]"
      ],
      "execution_count": 9,
      "outputs": []
    },
    {
      "cell_type": "markdown",
      "metadata": {
        "id": "qQPv0tW4Fd2G"
      },
      "source": [
        "**Modelo de clasificación Naive Bayes**"
      ]
    },
    {
      "cell_type": "code",
      "metadata": {
        "id": "37jueg4nDQFs"
      },
      "source": [
        "# entrenamiento del modelo NaiveBayes\n",
        "classifier = nltk.NaiveBayesClassifier.train(train)"
      ],
      "execution_count": 10,
      "outputs": []
    },
    {
      "cell_type": "markdown",
      "metadata": {
        "id": "BAWfUSHrEj3q"
      },
      "source": [
        " **Verificación de algunas predicciones**"
      ]
    },
    {
      "cell_type": "code",
      "metadata": {
        "id": "Mr8ytm8SEEZk",
        "colab": {
          "base_uri": "https://localhost:8080/",
          "height": 36
        },
        "outputId": "a1458aea-01e8-4fa9-bee9-728c5f01e490"
      },
      "source": [
        "classifier.classify(atributos('fernando'))"
      ],
      "execution_count": 15,
      "outputs": [
        {
          "output_type": "execute_result",
          "data": {
            "text/plain": [
              "'male'"
            ],
            "application/vnd.google.colaboratory.intrinsic+json": {
              "type": "string"
            }
          },
          "metadata": {},
          "execution_count": 15
        }
      ]
    },
    {
      "cell_type": "code",
      "metadata": {
        "id": "c0GG1Y1_EPaO",
        "colab": {
          "base_uri": "https://localhost:8080/",
          "height": 36
        },
        "outputId": "5c054e02-9562-4934-c627-475b35c14314"
      },
      "source": [
        "classifier.classify(atributos('william'))"
      ],
      "execution_count": 16,
      "outputs": [
        {
          "output_type": "execute_result",
          "data": {
            "text/plain": [
              "'male'"
            ],
            "application/vnd.google.colaboratory.intrinsic+json": {
              "type": "string"
            }
          },
          "metadata": {},
          "execution_count": 16
        }
      ]
    },
    {
      "cell_type": "markdown",
      "metadata": {
        "id": "XSUK14XhEqLL"
      },
      "source": [
        "**Performance del modelo**"
      ]
    },
    {
      "cell_type": "code",
      "metadata": {
        "id": "lenwC5agEdvT",
        "colab": {
          "base_uri": "https://localhost:8080/"
        },
        "outputId": "de558fa6-d41c-4f19-cc98-87eb978c72ab"
      },
      "source": [
        "print(nltk.classify.accuracy(classifier, test))"
      ],
      "execution_count": 17,
      "outputs": [
        {
          "output_type": "stream",
          "name": "stdout",
          "text": [
            "0.742\n"
          ]
        }
      ]
    },
    {
      "cell_type": "code",
      "metadata": {
        "id": "p5S9qeCgsJSg",
        "colab": {
          "base_uri": "https://localhost:8080/"
        },
        "outputId": "03bc24ee-9936-4975-928e-63f77c43841e"
      },
      "source": [
        "print(nltk.classify.accuracy(classifier, train))"
      ],
      "execution_count": 18,
      "outputs": [
        {
          "output_type": "stream",
          "name": "stdout",
          "text": [
            "0.7642396560988716\n"
          ]
        }
      ]
    },
    {
      "cell_type": "markdown",
      "metadata": {
        "id": "aSNI7OFxGib0"
      },
      "source": [
        "**Mejores atributos**"
      ]
    },
    {
      "cell_type": "code",
      "metadata": {
        "id": "k5uaIAdDGlq8"
      },
      "source": [
        "def mas_atributos(nombre):\n",
        "    atrib = {}\n",
        "    atrib[\"primera_letra\"] = nombre[0].lower() #primera letra del nombre\n",
        "    atrib[\"ultima_letra\"] = nombre[-1].lower() #ultima letra del nombre\n",
        "    for letra in 'abcdefghijklmnopqrstuvwxyz': #el numero de veces que existe una letra en el nombre podria ser un atributo\n",
        "        atrib[\"count({})\".format(letra)] = nombre.lower().count(letra) #cuantas veces aparece esa letra\n",
        "        atrib[\"has({})\".format(letra)] = (letra in nombre.lower()) # pregunta si contiene esa letra\n",
        "    return atrib"
      ],
      "execution_count": 19,
      "outputs": []
    },
    {
      "cell_type": "code",
      "metadata": {
        "id": "6-gJIxKcHKvI"
      },
      "source": [
        "mas_atributos('jhon')"
      ],
      "execution_count": null,
      "outputs": []
    },
    {
      "cell_type": "code",
      "metadata": {
        "id": "FBu25HHgHQtK"
      },
      "source": [
        "fset = [(mas_atributos(n), g) for (n, g) in tagset]\n",
        "train, test = fset[500:], fset[:500]\n",
        "classifier2 = nltk.NaiveBayesClassifier.train(train)"
      ],
      "execution_count": 21,
      "outputs": []
    },
    {
      "cell_type": "code",
      "metadata": {
        "id": "8hWR9hOzHlNe",
        "colab": {
          "base_uri": "https://localhost:8080/"
        },
        "outputId": "953035bb-33c6-42e0-cf4a-d23619bb760f"
      },
      "source": [
        "print(nltk.classify.accuracy(classifier2, test))"
      ],
      "execution_count": 22,
      "outputs": [
        {
          "output_type": "stream",
          "name": "stdout",
          "text": [
            "0.784\n"
          ]
        }
      ]
    },
    {
      "cell_type": "markdown",
      "metadata": {
        "id": "rT7mmVnvFAcm"
      },
      "source": [
        "### Ejercicio de práctica\n",
        "\n",
        "**Objetivo:** Construye un classificador de nombres en español usando el siguiente dataset: \n",
        "https://github.com/jvalhondo/spanish-names-surnames"
      ]
    },
    {
      "cell_type": "markdown",
      "metadata": {
        "id": "NphJqahkFnjO"
      },
      "source": [
        "1. **Preparación de los datos**: con un `git clone` puedes traer el dataset indicado a tu directorio en Colab, luego asegurate de darle el formato adecuado a los datos y sus features para que tenga la misma estructura del ejemplo anterior con el dataset `names` de nombres en ingles. \n",
        "\n",
        "* **Piensa y analiza**: ¿los features en ingles aplican de la misma manera para los nombres en español?"
      ]
    },
    {
      "cell_type": "code",
      "metadata": {
        "id": "OhbOT6_zFGHM",
        "colab": {
          "base_uri": "https://localhost:8080/"
        },
        "outputId": "9ae70694-7d99-431f-87b0-1d065090b435"
      },
      "source": [
        "# escribe tu código aquí\n",
        "!git clone https://github.com/jvalhondo/spanish-names-surnames\n",
        "\n",
        "\n",
        "import pandas as pd\n",
        "df_female = pd.read_csv(\"spanish-names-surnames/female_names.csv\", delimiter=\",\", encoding=\"utf-8\")\n",
        "df_male = pd.read_csv(\"spanish-names-surnames/male_names.csv\", delimiter=\",\", encoding=\"utf-8\")\n",
        "\n",
        "# construccion del dataset \n",
        "female_names=list(df_female['name'])\n",
        "male_names=list(df_male['name'])\n",
        "\n",
        "tagset = [(n, 'female') for n in female_names] + [(n, 'male') for n in male_names]\n",
        "random.shuffle(tagset)\n",
        "tagset[:10]"
      ],
      "execution_count": 30,
      "outputs": [
        {
          "output_type": "stream",
          "name": "stdout",
          "text": [
            "fatal: destination path 'spanish-names-surnames' already exists and is not an empty directory.\n"
          ]
        },
        {
          "output_type": "execute_result",
          "data": {
            "text/plain": [
              "[('JURG', 'male'),\n",
              " ('TAIRA', 'female'),\n",
              " ('NIKITA', 'female'),\n",
              " ('SUPING', 'female'),\n",
              " ('JHONATAN', 'male'),\n",
              " ('GENOVEVA MARIA', 'female'),\n",
              " ('MARIA VANESSA', 'female'),\n",
              " ('KHADIDIATOU', 'female'),\n",
              " ('XABIN', 'male'),\n",
              " ('XUJUN', 'male')]"
            ]
          },
          "metadata": {},
          "execution_count": 30
        }
      ]
    },
    {
      "cell_type": "markdown",
      "metadata": {
        "id": "KuY1Ux30F9uZ"
      },
      "source": [
        "2. **Entrenamiento y performance del modelo**: usando el classificador de Naive Bayes de NLTK entrena un modelo sencillo usando el mismo feature de la última letra del nombre, prueba algunas predicciones y calcula el performance del modelo. "
      ]
    },
    {
      "cell_type": "code",
      "metadata": {
        "id": "CvHwHTS8GT9I",
        "colab": {
          "base_uri": "https://localhost:8080/"
        },
        "outputId": "f0b6d79c-4967-49a1-fd6e-81c1f2caebb2"
      },
      "source": [
        "# escribe tu código aquí\n",
        "\n",
        "def atributos_sp(nombre):\n",
        "  attr = {}\n",
        "  attr[\"ultima_letra\"] = nombre[-1].lower()\n",
        "  attr[\"cant_nombres\"] = str(len(nombre.split(\" \")))\n",
        "  attr[\"tiene_dos_nombres\"] = True if (len(nombre.split(\" \"))==2) else False\n",
        "  attr[\"ultima_letra_seg_nombre\"] = nombre.split(\" \")[1][-1].lower() if (len(nombre.split(\" \"))==2) else False\n",
        "  return attr\n",
        "\n",
        "  fset = [(atributos_sp(n), g) for (n, g) in tagset if type(n)==str]\n",
        "train, test = fset[500:], fset[:500]\n",
        "\n",
        "classifier3 = nltk.NaiveBayesClassifier.train(train)\n",
        "print(nltk.classify.accuracy(classifier3, test))\n"
      ],
      "execution_count": 33,
      "outputs": [
        {
          "output_type": "stream",
          "name": "stdout",
          "text": [
            "0.784\n"
          ]
        }
      ]
    },
    {
      "cell_type": "markdown",
      "metadata": {
        "id": "f4a2jv85GXA_"
      },
      "source": [
        "3. **Mejores atributos:** Define una función como `atributos2()` donde puedas extraer mejores atributos con los cuales entrenar una mejor version del clasificador. Haz un segundo entrenamiento y verifica como mejora el performance de tu modelo. ¿Se te ocurren mejores maneras de definir atributos para esta tarea particular?"
      ]
    },
    {
      "cell_type": "code",
      "metadata": {
        "id": "9G-E5_CXIQiO"
      },
      "source": [
        "# escribe tu código aquí\n",
        "\n",
        "def atributos_sp2(nombre):\n",
        "  attr = {}\n",
        "  attr[\"cant_nombres\"] = str(len(nombre.split(\" \")))\n",
        "  attr[\"ultima_letra\"] = nombre.split(\" \")[0][-1].lower()\n",
        "  attr[\"tiene_dos_nombres\"] = True if (len(nombre.split(\" \"))==2) else False\n",
        "  attr[\"ultima_letra_seg_nombre\"] = nombre.split(\" \")[1][-1].lower() if (len(nombre.split(\" \"))==2) else False\n",
        "  attr[\"ultima_letra_es_a\"] = nombre[-1].lower() == 'a'\n",
        "  attr[\"ultima_letra_es_o\"] = nombre[-1].lower() == 'o'\n",
        "  attr[\"ultima_letra_2do_nombre_a\"] = nombre[-1].lower() == nombre.split(\" \")[1][-1].lower() in'a'if (len(nombre.split(\" \"))==2) else False\n",
        "  attr[\"ultima_letra_2do_nombre_o\"] = nombre[-1].lower() == nombre.split(\" \")[1][-1].lower() in'o'if (len(nombre.split(\" \"))==2) else False\n",
        "  for letra in'abcdefghijklmnopqrstuvwxyz':\n",
        "    attr['count({})'.format(letra)]=nombre.lower().count(letra)\n",
        "    attr['has({})'.format(letra)]=(letra in nombre.lower())\n",
        "  return attr\n",
        "\n",
        "fset = [(atributos_sp2(n), g) for (n, g) in tagset if type(n)==str]\n",
        "train, test = fset[500:], fset[:500]\n",
        "classifier4 = nltk.NaiveBayesClassifier.train(train)"
      ],
      "execution_count": 37,
      "outputs": []
    },
    {
      "cell_type": "code",
      "source": [
        "fset = [(atributos_sp2(n), g) for (n, g) in tagset if type(n)==str]\n",
        "train, test = fset[500:], fset[:500]\n",
        "classifier4 = nltk.NaiveBayesClassifier.train(train)\n",
        "print(nltk.classify.accuracy(classifier4, test))\n"
      ],
      "metadata": {
        "colab": {
          "base_uri": "https://localhost:8080/"
        },
        "id": "CDs4KKreO2hv",
        "outputId": "6e638c6b-b968-42da-d7c3-7b95586a52f6"
      },
      "execution_count": 38,
      "outputs": [
        {
          "output_type": "stream",
          "name": "stdout",
          "text": [
            "0.85\n"
          ]
        }
      ]
    },
    {
      "cell_type": "code",
      "source": [
        " # se mejoró el modelo de un 78% a un  85%"
      ],
      "metadata": {
        "id": "bI719fCGSSXe"
      },
      "execution_count": 39,
      "outputs": []
    },
    {
      "cell_type": "code",
      "source": [],
      "metadata": {
        "id": "2QlTIdj1SZDH"
      },
      "execution_count": null,
      "outputs": []
    }
  ]
}